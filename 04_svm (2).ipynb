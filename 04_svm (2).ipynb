{
 "cells": [
  {
   "cell_type": "code",
   "execution_count": 1,
   "metadata": {},
   "outputs": [],
   "source": [
    "# Import libraries\n",
    "import pandas as pd\n",
    "import numpy as np\n",
    "import matplotlib.pyplot as plt\n",
    "import seaborn as sns\n",
    "from sklearn.linear_model import LogisticRegression\n",
    "from sklearn.svm import SVC\n",
    "# import train test split\n",
    "from sklearn.model_selection import train_test_split\n",
    "# Evaluate the model using various metrics\n",
    "from sklearn.metrics import accuracy_score, precision_score, recall_score, f1_score, roc_auc_score, confusion_matrix"
   ]
  },
  {
   "cell_type": "code",
   "execution_count": 3,
   "metadata": {},
   "outputs": [],
   "source": [
    "df = sns.load_dataset('titanic')\n",
    "from sklearn.preprocessing import LabelEncoder\n",
    "le = LabelEncoder()\n",
    "df['sex'] = le.fit_transform(df['sex'])\n",
    "# impute null values\n",
    "df['age'] = df['age'].fillna(df['age'].mean())\n",
    "X = df[['age', 'sex']]\n",
    "y = df['survived']\n",
    "# train test split\n",
    "X_train, X_test, y_train, y_test = train_test_split(X, y, test_size=0.2, random_state=42)"
   ]
  },
  {
   "cell_type": "code",
   "execution_count": 7,
   "metadata": {},
   "outputs": [
    {
     "name": "stdout",
     "output_type": "stream",
     "text": [
      "Evaluation Metrics:\n",
      "-------------------\n",
      "Accuracy: 0.7821229050279329\n",
      "Precision: 0.7536231884057971\n",
      "Recall: 0.7027027027027027\n",
      "F1 Score: 0.7272727272727273\n",
      "ROC AUC Score: 0.7703989703989704\n",
      "Confusion Matrix: [[88 17]\n",
      " [22 52]]\n"
     ]
    }
   ],
   "source": [
    "# logistic regression\n",
    "lr = LogisticRegression()\n",
    "lr.fit(X_train, y_train)\n",
    "y_pred = lr.predict(X_test)\n",
    "\n",
    "# evaluating the model\n",
    "accuracy = accuracy_score(y_test, y_pred)\n",
    "precision = precision_score(y_test, y_pred)\n",
    "recall = recall_score(y_test, y_pred)\n",
    "f1 = f1_score(y_test, y_pred)\n",
    "roc_auc = roc_auc_score(y_test, y_pred)\n",
    "cm = confusion_matrix(y_test, y_pred)\n",
    "\n",
    "print('Evaluation Metrics:')\n",
    "print('-------------------')\n",
    "print('Accuracy:', accuracy)\n",
    "print('Precision:', precision)\n",
    "print('Recall:', recall)\n",
    "print('F1 Score:', f1)\n",
    "print('ROC AUC Score:', roc_auc)\n",
    "print('Confusion Matrix:', cm)"
   ]
  },
  {
   "cell_type": "code",
   "execution_count": 8,
   "metadata": {},
   "outputs": [
    {
     "name": "stdout",
     "output_type": "stream",
     "text": [
      "Evaluation Metrics:\n",
      "-------------------\n",
      "Accuracy: 0.6089385474860335\n",
      "Precision: 0.8333333333333334\n",
      "Recall: 0.06756756756756757\n",
      "F1 Score: 0.12500000000000003\n",
      "ROC AUC Score: 0.529021879021879\n",
      "Confusion Matrix: [[104   1]\n",
      " [ 69   5]]\n"
     ]
    }
   ],
   "source": [
    "# SVC\n",
    "svc = SVC()\n",
    "svc.fit(X_train, y_train)\n",
    "y_pred = svc.predict(X_test)\n",
    "\n",
    "# evaluating the model\n",
    "accuracy = accuracy_score(y_test, y_pred)\n",
    "precision = precision_score(y_test, y_pred)\n",
    "recall = recall_score(y_test, y_pred)\n",
    "f1 = f1_score(y_test, y_pred)\n",
    "roc_auc = roc_auc_score(y_test, y_pred)\n",
    "cm = confusion_matrix(y_test, y_pred)\n",
    "\n",
    "print('Evaluation Metrics:')\n",
    "print('-------------------')\n",
    "print('Accuracy:', accuracy)\n",
    "print('Precision:', precision)\n",
    "print('Recall:', recall)\n",
    "print('F1 Score:', f1)\n",
    "print('ROC AUC Score:', roc_auc)\n",
    "print('Confusion Matrix:', cm)"
   ]
  },
  {
   "attachments": {},
   "cell_type": "markdown",
   "metadata": {},
   "source": [
    "Evaluation Metrics (of LR):\n",
    "-------------------\n",
    "Accuracy: 0.7821229050279329\n",
    "Precision: 0.7536231884057971\n",
    "Recall: 0.7027027027027027\n",
    "F1 Score: 0.7272727272727273\n",
    "ROC AUC Score: 0.7703989703989704\n",
    "\n",
    "\n",
    "Evaluation Metrics (SVC):\n",
    "-------------------\n",
    "Accuracy: 0.6089385474860335\n",
    "Precision: 0.8333333333333334\n",
    "Recall: 0.06756756756756757\n",
    "F1 Score: 0.12500000000000003\n",
    "ROC AUC Score: 0.529021879021879"
   ]
  }
 ],
 "metadata": {
  "kernelspec": {
   "display_name": "python_ml",
   "language": "python",
   "name": "python3"
  },
  "language_info": {
   "codemirror_mode": {
    "name": "ipython",
    "version": 3
   },
   "file_extension": ".py",
   "mimetype": "text/x-python",
   "name": "python",
   "nbconvert_exporter": "python",
   "pygments_lexer": "ipython3",
   "version": "3.11.0"
  },
  "orig_nbformat": 4
 },
 "nbformat": 4,
 "nbformat_minor": 2
}
